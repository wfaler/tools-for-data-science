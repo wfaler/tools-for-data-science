{
 "cells": [
  {
   "cell_type": "markdown",
   "id": "3d52ca19",
   "metadata": {},
   "source": [
    "# Final Assignment: Create and Share your Jupyter Notebook"
   ]
  },
  {
   "cell_type": "markdown",
   "id": "2ca01302",
   "metadata": {},
   "source": [
    "## Exercise 3: Introduction\n",
    "This is the assignment for Module 6 of \"Tools for Data Science\""
   ]
  },
  {
   "cell_type": "markdown",
   "id": "f3c40819",
   "metadata": {},
   "source": [
    "## Exercise 4: Data Science Languages\n",
    "### Primary languages\n",
    "* Python\n",
    "* R\n",
    "* SQL\n",
    "\n",
    "### Secondary languages\n",
    "* Scala\n",
    "* Java\n",
    "* C++\n",
    "* Julia\n",
    "\n",
    "### Less commonly used languages\n",
    "* JavaScript\n",
    "* PHP\n",
    "* Go\n",
    "* Ruby\n",
    "* Visual Basic"
   ]
  },
  {
   "cell_type": "markdown",
   "id": "5de2566b",
   "metadata": {},
   "source": [
    "## Exercise 5: data science libraries\n",
    "* NumPy \n",
    "* Pandas\n",
    "* Matplotlib\n",
    "* Seaborn\n",
    "* SciPy\n",
    "* Scikit\n",
    "* TensorFlow\n",
    "* Pytorch\n",
    "* Keras"
   ]
  },
  {
   "cell_type": "markdown",
   "id": "09eabe0d",
   "metadata": {},
   "source": [
    "## Exercise 6: Data science tools\n",
    "| Tool  |Use Case   |\n",
    "|------|-----------|\n",
    "|MySQL   |Relational Database   | \n",
    "| PostgreSQL  | Relational Database  |\n",
    "| Hadoop File System  | Clustered file storage  | \n",
    "| Apache AirFlow | Integration & Transformation |\n",
    "| Apache Spark | Cluster processing |\n",
    "| Apache Kafka | Stream processing |\n",
    "| Apache Nifi | ETL |"
   ]
  },
  {
   "cell_type": "markdown",
   "id": "c2f1eb24",
   "metadata": {},
   "source": [
    "## Exercise 7: Introducing arithmetic expression examples\n",
    "Arithmetic can be done as following in a code cell:\n",
    "\n",
    "> 1 + 1\n",
    "\n",
    "Or: \n",
    "\n",
    "> 2*3\n",
    "\n",
    "The output will then be shown below when executing the cell."
   ]
  },
  {
   "cell_type": "code",
   "execution_count": 10,
   "id": "10294700",
   "metadata": {},
   "outputs": [
    {
     "data": {
      "text/plain": [
       "13"
      ]
     },
     "execution_count": 10,
     "metadata": {},
     "output_type": "execute_result"
    }
   ],
   "source": [
    "5*2+3"
   ]
  },
  {
   "cell_type": "code",
   "execution_count": 11,
   "id": "e0a54577",
   "metadata": {},
   "outputs": [
    {
     "name": "stdout",
     "output_type": "stream",
     "text": [
      "120 minutes is 2.0 hours.\n"
     ]
    }
   ],
   "source": [
    "def minutes_to_hours(minutes):\n",
    "    return minutes / 60\n",
    "\n",
    "# Test\n",
    "minutes = 120\n",
    "hours = minutes_to_hours(minutes)\n",
    "print(f'{minutes} minutes is {hours} hours.')"
   ]
  },
  {
   "cell_type": "markdown",
   "id": "865af457",
   "metadata": {},
   "source": [
    "## Exercise 10: Objectives\n",
    "Objectives of \"Tools for Data Science\" are:\n",
    "\n",
    "* Be able to list components of a Data Scientists toolkit\n",
    "* List categories of tools\n",
    "* List examples of various tools\n",
    "* Learn about languages and libraries used\n",
    "* Learn basics of Jupyter Notebooks\n",
    "* Learn basics of R and R Studio"
   ]
  },
  {
   "cell_type": "markdown",
   "id": "c6300fb4",
   "metadata": {},
   "source": [
    "## Exercise 11 - Author: Wille Faler"
   ]
  },
  {
   "cell_type": "code",
   "execution_count": null,
   "id": "ea1d6e44",
   "metadata": {},
   "outputs": [],
   "source": []
  }
 ],
 "metadata": {
  "kernelspec": {
   "display_name": "Python 3 (ipykernel)",
   "language": "python",
   "name": "python3"
  },
  "language_info": {
   "codemirror_mode": {
    "name": "ipython",
    "version": 3
   },
   "file_extension": ".py",
   "mimetype": "text/x-python",
   "name": "python",
   "nbconvert_exporter": "python",
   "pygments_lexer": "ipython3",
   "version": "3.10.9"
  }
 },
 "nbformat": 4,
 "nbformat_minor": 5
}
